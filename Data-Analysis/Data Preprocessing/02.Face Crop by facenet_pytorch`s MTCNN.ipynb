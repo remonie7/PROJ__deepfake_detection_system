{
 "cells": [
  {
   "cell_type": "markdown",
   "metadata": {},
   "source": [
    "#### Import\n",
    "- MTCNN : 얼굴 검출 후 얼굴 크롭하는 라이브러리"
   ]
  },
  {
   "cell_type": "code",
   "execution_count": null,
   "metadata": {
    "scrolled": true
   },
   "outputs": [],
   "source": [
    "import os\n",
    "import cv2 as cv\n",
    "import numpy as np\n",
    "from facenet_pytorch import MTCNN\n",
    "from tqdm import tqdm\n",
    "\n",
    "os.environ[\"CUDA_VISIBLE_DEVICES\"]= \"1\""
   ]
  },
  {
   "cell_type": "markdown",
   "metadata": {},
   "source": [
    "- REAL과 FAKE 폴더에 속한 모든 폴더 경로 리스트 생성"
   ]
  },
  {
   "cell_type": "code",
   "execution_count": null,
   "metadata": {},
   "outputs": [],
   "source": [
    "real_dir = ('C:/ai/workspace/sh/REAL/')\n",
    "real_list = [real_dir + x for x in os.listdir(real_dir)]\n",
    "real_list = list(map(lambda x: x+\"/\", real_dir))"
   ]
  },
  {
   "cell_type": "code",
   "execution_count": null,
   "metadata": {},
   "outputs": [],
   "source": [
    "fake_dir = ('C:/ai/workspace/sh/FAKE/')\n",
    "fake_list = [fake_dir + x for x in os.listdir(fake_dir)]\n",
    "fake_list = list(map(lambda x: x+\"/\", fake_list))"
   ]
  },
  {
   "cell_type": "markdown",
   "metadata": {},
   "source": [
    "### Face Detect\n",
    "- v_cap : 영상을 프레임별로 자름\n",
    "- v_len : 프레임의 총 개수를 변수에 저장\n",
    "- cv2.VideoCapture.grab() : 프레임을 가져온다. 실패 시 success 변수엔 False가 저장\n",
    "- cv2.VideoCapture.retrieve() : grab한 프레임을 decode한다. 프레임이 없을 경우 False가 success 변수에 저장\n",
    "- cv.COLOR_BGR2RGB : 프레임을 BGR에서 RGB로 변환\n",
    "- MTCNN : 얼굴을 검출하고, margin을 줘 얼굴이 살짝 잘리는 것을 방지\n",
    "- save_path : 캡쳐 파일 저장\n",
    "- count : 영상에서 프레임별로 검출되는 모든 얼굴에 대해 번호를 매기기 위함"
   ]
  },
  {
   "cell_type": "code",
   "execution_count": null,
   "metadata": {
    "scrolled": true
   },
   "outputs": [],
   "source": [
    "def chimac(videos, num, label):\n",
    "    \n",
    "    count=0\n",
    "    file =  videos.split(\"/\")[-1]\n",
    "    fileName = file.split(\".\")[0]\n",
    "    mtcnn = MTCNN(margin=50, keep_all=True, post_process=True, device='cuda:0',thresholds=[.9,.9,.9])\n",
    "    v_cap = cv.VideoCapture(videos)\n",
    "    v_len = int(v_cap.get(cv.CAP_PROP_FRAME_COUNT))\n",
    "    \n",
    "    for i in tqdm(range(v_len)):    \n",
    "        success = v_cap.grab()\n",
    "        if i % 1 == 0:\n",
    "            success, frame = v_cap.retrieve()\n",
    "        else:\n",
    "            continue\n",
    "        if not success:\n",
    "            continue\n",
    "        frame = cv.cvtColor(frame, cv.COLOR_BGR2RGB)\n",
    "        face = mtcnn(frame, save_path = f'C:/ai/workspace/sh/newtrain/{label}/{num}/{fileName}{count}.jpg') #사진저장경로\n",
    "        count=count+1\n",
    "\n",
    "    v_cap.release()"
   ]
  },
  {
   "cell_type": "markdown",
   "metadata": {},
   "source": [
    "- 사람 폴더별로 폴더 안 모든 영상에 대해 chimac 함수를 실행시킨다"
   ]
  },
  {
   "cell_type": "code",
   "execution_count": null,
   "metadata": {},
   "outputs": [],
   "source": [
    "for path in range(len(real_list)):\n",
    "    real_vid = [real_list[path] + x for x in os.listdir(real_list[path])]\n",
    "    for vid in real_vid:\n",
    "        chimac(vid, path, 'REAL')"
   ]
  },
  {
   "cell_type": "code",
   "execution_count": null,
   "metadata": {},
   "outputs": [],
   "source": [
    "for path in range(len(fake_list)):\n",
    "    fake_vid = [fake_list[path] + x for x in os.listdir(fake_list[path])]\n",
    "    for vid in fake_vid:\n",
    "        chimac(vid, path, 'FAKE')"
   ]
  }
 ],
 "metadata": {
  "kernelspec": {
   "display_name": "Python 3",
   "language": "python",
   "name": "python3"
  },
  "language_info": {
   "codemirror_mode": {
    "name": "ipython",
    "version": 3
   },
   "file_extension": ".py",
   "mimetype": "text/x-python",
   "name": "python",
   "nbconvert_exporter": "python",
   "pygments_lexer": "ipython3",
   "version": "3.7.3"
  }
 },
 "nbformat": 4,
 "nbformat_minor": 4
}
