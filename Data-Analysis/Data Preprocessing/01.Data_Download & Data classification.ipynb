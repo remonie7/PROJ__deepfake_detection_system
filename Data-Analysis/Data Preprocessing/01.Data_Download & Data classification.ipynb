{
 "cells": [
  {
   "cell_type": "markdown",
   "metadata": {},
   "source": [
    "#### Import\n",
    "- shutil : move 함수를 이용해, 새로 생성한 REAL과 FAKE 폴더로 영상을 이동시킨다"
   ]
  },
  {
   "cell_type": "code",
   "execution_count": null,
   "metadata": {},
   "outputs": [],
   "source": [
    "import pandas as pd\n",
    "import matplotlib.pyplot as plt\n",
    "import os\n",
    "import shutil"
   ]
  },
  {
   "cell_type": "markdown",
   "metadata": {},
   "source": [
    "#### Data Adopted & Data Read\n",
    "- Kaggle Deepfake Detection Challenge Dataset의 **<U>train_sample_videos,03.zip</U>**\n",
    "https://www.kaggle.com/c/deepfake-detection-challenge/data  \n",
    "- train_sample_videos 400개 영상과, 03.zip의 약 1500개 영상의 REAL, FAKE 정보가 담긴, json 파일로 구성\n",
    "- 각각 metadata를 Dataframe으로 읽어온 뒤, 하나의 Dataframe으로 구성\n",
    "- json 파일을 이용하여 barplot을 통해 영상 REAL, FAKE 비율 시각적으로 구성\n"
   ]
  },
  {
   "cell_type": "code",
   "execution_count": null,
   "metadata": {
    "scrolled": true
   },
   "outputs": [],
   "source": [
    "metadata_0 = pd.read_json('./metadata.json').T\n",
    "metadata_1 = pd.read_json('./metadata3.json').T"
   ]
  },
  {
   "cell_type": "code",
   "execution_count": null,
   "metadata": {},
   "outputs": [],
   "source": [
    "total_metadata = pd.concat([metadata_0, metadata_1])"
   ]
  },
  {
   "cell_type": "code",
   "execution_count": null,
   "metadata": {
    "scrolled": false
   },
   "outputs": [],
   "source": [
    "metadata.groupby('label')['label'].count().plot(figsize=(12,5), kind='bar')\n",
    "plt.show()"
   ]
  },
  {
   "cell_type": "markdown",
   "metadata": {},
   "source": [
    "### Data Classification\n",
    "- 이진 분류를 위해, REAL 영상과 FAKE 영상 분리\n",
    "- total_metadata의 label 값을 토대로 REAL인 영상 리스트(real)와 FAKE인 영상 리스트(fake) 생성\n",
    "- REAL, FAKE 영상 리스트 앞에 영상이 있는 파일 경로를 붙여, 영상 경로 리스트 생성\n",
    "  (real_vid_path, fake_vid_path)\n",
    "- shutil.move를 이용하여 REAL, FAKE 영상을 각 REAL, FAKE 폴더로 이동\n",
    "  (이동 전 REAL, FAKE 폴더 생성 요구)"
   ]
  },
  {
   "cell_type": "code",
   "execution_count": null,
   "metadata": {
    "scrolled": true
   },
   "outputs": [],
   "source": [
    "real = total_metadata[total_metadata[\"label\"] == \"REAL\"]\n",
    "fake = total_metadata[total_metadata[\"label\"] == \"FAKE\"]"
   ]
  },
  {
   "cell_type": "code",
   "execution_count": null,
   "metadata": {},
   "outputs": [],
   "source": [
    "real_vid_path = list(map(lambda x: 'C:/ai/workspace/sh/dfdc_train_part_3/'+x, json_real.index))\n",
    "real_vid_path #기존 경로"
   ]
  },
  {
   "cell_type": "code",
   "execution_count": null,
   "metadata": {
    "scrolled": true
   },
   "outputs": [],
   "source": [
    "fake_vid_path = list(map(lambda x: 'C:/ai/workspace/sh/dfdc_train_part_3/'+x, json_fake.index))\n",
    "fake_vid_path #기존 경로"
   ]
  },
  {
   "cell_type": "code",
   "execution_count": null,
   "metadata": {},
   "outputs": [],
   "source": [
    "for i in real_vid_path:\n",
    "    shutil.move(i, 'C:/ai/workspace/sh/REAL')  #이동 경로 지정"
   ]
  },
  {
   "cell_type": "code",
   "execution_count": null,
   "metadata": {},
   "outputs": [],
   "source": [
    "for i in fake_vid_path:\n",
    "    shutil.move(i, 'C:/ai/workspace/sh/FAKE')  #이동 경로 지정"
   ]
  }
 ],
 "metadata": {
  "kernelspec": {
   "display_name": "Python 3",
   "language": "python",
   "name": "python3"
  },
  "language_info": {
   "codemirror_mode": {
    "name": "ipython",
    "version": 3
   },
   "file_extension": ".py",
   "mimetype": "text/x-python",
   "name": "python",
   "nbconvert_exporter": "python",
   "pygments_lexer": "ipython3",
   "version": "3.7.3"
  }
 },
 "nbformat": 4,
 "nbformat_minor": 2
}
