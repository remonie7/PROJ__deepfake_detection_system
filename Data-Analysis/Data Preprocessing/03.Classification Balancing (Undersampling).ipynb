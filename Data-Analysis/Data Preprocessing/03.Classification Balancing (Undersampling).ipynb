{
 "cells": [
  {
   "cell_type": "markdown",
   "metadata": {},
   "source": [
    "#### Import"
   ]
  },
  {
   "cell_type": "code",
   "execution_count": null,
   "metadata": {},
   "outputs": [],
   "source": [
    "import numpy as np\n",
    "import pandas as pd\n",
    "from tqdm import tqdm\n",
    "import time\n",
    "import os\n",
    "import pickle\n",
    "import shutil\n",
    "import matplotlib.pyplot as plt"
   ]
  },
  {
   "cell_type": "markdown",
   "metadata": {},
   "source": [
    "#### Real photo counting by person\n",
    "- real_dir : 사람별 폴더 경로\n",
    "- real_dir_list : 사람별 폴더 리스트\n",
    "- real_count : 사람별 폴더 내 사진 개수"
   ]
  },
  {
   "cell_type": "code",
   "execution_count": null,
   "metadata": {
    "scrolled": true
   },
   "outputs": [],
   "source": [
    "real_dir = ('C:/ai/workspace/sh/newtrain/REAL/')\n",
    "real_dir_list = [real_dir + x for x in os.listdir(real_dir)]\n",
    "real_dir_list = list(map(lambda x: x+\"/\", real_dir_list))"
   ]
  },
  {
   "cell_type": "code",
   "execution_count": null,
   "metadata": {},
   "outputs": [],
   "source": [
    "real_count=[]\n",
    "for lists in real_dir_list:\n",
    "    real_list = [lists + x for x in os.listdir(lists)]\n",
    "    real_count.append(len(real_list))"
   ]
  },
  {
   "cell_type": "markdown",
   "metadata": {},
   "source": [
    "#### Fake photo counting by person\n",
    "- fake_dir : 사람별 폴더 경로\n",
    "- fake_dir_list : 사람별 폴더 리스트\n",
    "- fake_count : 사람별 폴더 내 사진 개수"
   ]
  },
  {
   "cell_type": "code",
   "execution_count": null,
   "metadata": {},
   "outputs": [],
   "source": [
    "fake_dir = ('C:/ai/workspace/sh/newtrain/FAKE/') \n",
    "fake_dir_list = [fake_dir + x for x in os.listdir(fake_dir)]\n",
    "fake_dir_list = list(map(lambda x: x+\"/\", fake_dir_list))"
   ]
  },
  {
   "cell_type": "code",
   "execution_count": null,
   "metadata": {},
   "outputs": [],
   "source": [
    "fake_count=[]\n",
    "for lists in fake_dir_list:\n",
    "    fake_list = [lists + x for x in os.listdir(lists)]\n",
    "    fake_count.append(len(fake_list))"
   ]
  },
  {
   "cell_type": "markdown",
   "metadata": {},
   "source": [
    "#### Classification Balancing\n",
    "- balance_fake : 사람별 폴더 경로\n",
    "- balance_fake_list : 사람별 폴더 리스트\n",
    "- shutil.copy() : 사람별로 real 개수만큼 fake에서 랜덤 추출 후 파일 복사"
   ]
  },
  {
   "cell_type": "code",
   "execution_count": null,
   "metadata": {},
   "outputs": [],
   "source": [
    "balance_fake = ('C:/ai/workspace/sh/newtrain/fakesamepic/') \n",
    "balance_fake_list = [balance_fake + x for x in os.listdir(balance_fake)]\n",
    "balance_fake_list"
   ]
  },
  {
   "cell_type": "code",
   "execution_count": null,
   "metadata": {},
   "outputs": [],
   "source": [
    "np.random.seed(33)\n",
    "for path in range(len(real_dir_list)):\n",
    "    real = [real_dir_list[path] + x for x in os.listdir(real_dir_list[path])]\n",
    "    fake = [fake_dir_list[path] + x for x in os.listdir(fake_dir_list[path])]\n",
    "    bal_fake = np.random.choice(fake, len(real), replace=False)\n",
    "    for bal in bal_fake:\n",
    "        shutil.copy(bal, fakesamplefoldlist[path])"
   ]
  },
  {
   "cell_type": "markdown",
   "metadata": {},
   "source": [
    "#### Train, Validation, Test division by person\n",
    "- 마지막 두번째 폴더의 사람은 test로 분류\n",
    "- 나머지 사람은, 사람별로 약 9:1의 비율로 train과 validation 데이터로 분류\n",
    "- 사람별 폴더에 들어있는 사진들의 리스트 순서를 임의로 섞은 후, 리스트 앞에서부터 사진 갯수의 0.11 비율에 해당하는 개수만큼을 validation으로, 나머지는 train으로 분류"
   ]
  },
  {
   "cell_type": "code",
   "execution_count": null,
   "metadata": {},
   "outputs": [],
   "source": [
    "for lists in real_dir_list[:-2]:\n",
    "    real_list = [lists + x for x in os.listdir(lists)]\n",
    "    real_list = np.random.choice(real_list, len(real_list), replace=False)\n",
    "    for real in real_list[:int(len(real_list)*0.11)]:\n",
    "        shutil.copy(real, 'C:/ai/workspace/sh/newtrain/val/real')\n",
    "    for real in real_list[int(len(real_list)*0.11):]:\n",
    "        shutil.copy(j, 'C:/ai/workspace/sh/newtrain/train/real')"
   ]
  },
  {
   "cell_type": "code",
   "execution_count": null,
   "metadata": {},
   "outputs": [],
   "source": [
    "for lists in fakesamefoldlist[:-2]:\n",
    "    balance_fake_list = [lists + x for x in os.listdir(lists)]\n",
    "    balance_fake_list = np.random.choice(balance_fake_list, len(balance_fake_list), replace=False)\n",
    "    for fake in balance_fake_list[:int(len(balance_fake_list)*0.11)]:\n",
    "        shutil.copy(fake, 'C:/ai/workspace/sh/newtrain/val/fake')\n",
    "    for fake in balance_fake_list[int(len(balance_fake_list)*0.11):]:\n",
    "        shutil.copy(fake, 'C:/ai/workspace/sh/newtrain/train/fake')"
   ]
  }
 ],
 "metadata": {
  "kernelspec": {
   "display_name": "Python 3",
   "language": "python",
   "name": "python3"
  },
  "language_info": {
   "codemirror_mode": {
    "name": "ipython",
    "version": 3
   },
   "file_extension": ".py",
   "mimetype": "text/x-python",
   "name": "python",
   "nbconvert_exporter": "python",
   "pygments_lexer": "ipython3",
   "version": "3.7.3"
  }
 },
 "nbformat": 4,
 "nbformat_minor": 2
}
