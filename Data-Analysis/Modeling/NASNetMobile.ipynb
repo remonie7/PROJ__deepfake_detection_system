{
 "cells": [
  {
   "cell_type": "markdown",
   "metadata": {
    "colab_type": "text",
    "id": "df679vScXyQk"
   },
   "source": [
    "### IMPORT"
   ]
  },
  {
   "cell_type": "code",
   "execution_count": null,
   "metadata": {
    "colab": {},
    "colab_type": "code",
    "id": "kdahKHWYKcNR",
    "scrolled": true
   },
   "outputs": [],
   "source": [
    "import os\n",
    "import pandas as pd\n",
    "import matplotlib.pyplot as plt\n",
    "import keras\n",
    "import tensorflow as tf\n",
    "from sklearn.model_selection import train_test_split\n",
    "from sklearn.utils import shuffle\n",
    "from keras.preprocessing.image import ImageDataGenerator, img_to_array\n",
    "from keras.models import Sequential, Model\n",
    "from keras.layers import Dense, Flatten, Dropout\n",
    "from keras.optimizers import Adam\n",
    "from keras.callbacks import ModelCheckpoint, EarlyStopping\n",
    "from keras.applications.nasnet import NASNetMobile\n",
    "\n",
    "os.environ[\"CUDA_VISIBLE_DEVICES\"]= \"1\"\n",
    "\n",
    "tf.debugging.set_log_device_placement(True)\n",
    "config = tf.ConfigProto()\n",
    "config.gpu_options.allow_growth = True"
   ]
  },
  {
   "cell_type": "markdown",
   "metadata": {},
   "source": [
    "### LOAD DATA"
   ]
  },
  {
   "cell_type": "markdown",
   "metadata": {},
   "source": [
    "#### Train Dataset"
   ]
  },
  {
   "cell_type": "code",
   "execution_count": null,
   "metadata": {
    "colab": {},
    "colab_type": "code",
    "id": "EUMBxPoSXyRC"
   },
   "outputs": [],
   "source": [
    "real_train_dir = './dataset/train/real/'\n",
    "real_train = [real_train_dir + x for x in sorted(os.listdir(real_train_dir))]\n",
    "\n",
    "fake_train_dir = './dataset/train/fake/'\n",
    "fake_train = [fake_train_dir + x for x in sorted(os.listdir(fake_train_dir))]"
   ]
  },
  {
   "cell_type": "markdown",
   "metadata": {},
   "source": [
    "#### Test Dataset"
   ]
  },
  {
   "cell_type": "code",
   "execution_count": null,
   "metadata": {},
   "outputs": [],
   "source": [
    "real_test_dir = './dataset/test/real/'\n",
    "real_test = [real_test_dir + x for x in sorted(os.listdir(real_test_dir))]\n",
    "\n",
    "fake_test_dir = './dataset/test/fake/'\n",
    "fake_test = [fake_test_dir + x for x in sorted(os.listdir(fake_test_dir))]"
   ]
  },
  {
   "cell_type": "markdown",
   "metadata": {},
   "source": [
    "#### Validation Dataset"
   ]
  },
  {
   "cell_type": "code",
   "execution_count": null,
   "metadata": {
    "colab": {},
    "colab_type": "code",
    "id": "TbZi8WuVdZeP"
   },
   "outputs": [],
   "source": [
    "real_val_dir = './dataset/val/real/'\n",
    "real_val = [real_val_dir + x for x in sorted(os.listdir(real_val_dir))]\n",
    "\n",
    "fake_val_dir = './dataset/val/fake/'\n",
    "fake_val = [fake_val_dir + x for x in sorted(os.listdir(fake_val_dir))]"
   ]
  },
  {
   "cell_type": "markdown",
   "metadata": {},
   "source": [
    "#### Train Path"
   ]
  },
  {
   "cell_type": "code",
   "execution_count": null,
   "metadata": {
    "colab": {},
    "colab_type": "code",
    "id": "kY4UjrL1YFZg",
    "scrolled": true
   },
   "outputs": [],
   "source": [
    "train_path = real_train + fake_train\n",
    "train_label = ['0']*len(real_train) + ['1']*len(fake_train)\n",
    "train_df = pd.DataFrame({'path': train_path, 'label':train_label})\n",
    "train_df = shuffle(train_df)\n",
    "\n",
    "train_df.head()"
   ]
  },
  {
   "cell_type": "markdown",
   "metadata": {},
   "source": [
    "#### Test Path"
   ]
  },
  {
   "cell_type": "code",
   "execution_count": null,
   "metadata": {},
   "outputs": [],
   "source": [
    "test_path = real_test + fake_test\n",
    "test_label = ['0']*len(real_test) + ['1']*len(fake_test)\n",
    "test_df = pd.DataFrame({'path': test_path, 'label':test_label})\n",
    "test_df = shuffle(test_df)\n",
    "\n",
    "test_df.head()"
   ]
  },
  {
   "cell_type": "markdown",
   "metadata": {},
   "source": [
    "#### Validation Path"
   ]
  },
  {
   "cell_type": "code",
   "execution_count": null,
   "metadata": {
    "colab": {},
    "colab_type": "code",
    "id": "82Jklk1rYv0Y",
    "scrolled": true
   },
   "outputs": [],
   "source": [
    "val_path = real_val + fake_val\n",
    "val_label = ['0']*len(real_val) + ['1']*len(fake_val)\n",
    "val_df = pd.DataFrame({'path': val_path, 'label':val_label})\n",
    "val_df = shuffle(val_df)\n",
    "\n",
    "val_df.head()"
   ]
  },
  {
   "cell_type": "markdown",
   "metadata": {},
   "source": [
    "#### Data Augmentation\n",
    "- rotation_range : 회전 최대 반경\n",
    "- width_shift_range : 좌우 이동 최대 이미지 가로 사이즈\n",
    "- height_shift_range : 상하 이동 최대 이미지 세로 사이즈\n",
    "- horizontal_flip : 좌우 반전 실행\n",
    "- vertical_flip : 상하 반전 실행\n",
    "- rescale : 원본은 0-255의 RGB 계수로 구성되는데, 이는 모델을 효과적으로 학습시키기에 너무 높습니다  (통상적인 learning rate를 사용할 경우). 그래서 이를 1/255로 스케일링하여 0-1 범위로 변환시켜줍니다. "
   ]
  },
  {
   "cell_type": "code",
   "execution_count": null,
   "metadata": {
    "colab": {},
    "colab_type": "code",
    "id": "HE5fJ9bDXyRP"
   },
   "outputs": [],
   "source": [
    "train_datagen = ImageDataGenerator(rotation_range = 270, width_shift_range = .2,\n",
    "                                  height_shift_range = .2, horizontal_flip = True,\n",
    "                                  vertical_flip = True, rescale = 1/255)\n",
    "\n",
    "test_datagen = ImageDataGenerator(rescale = 1/255)\n",
    "\n",
    "val_datagen = ImageDataGenerator(rescale = 1/255)"
   ]
  },
  {
   "cell_type": "markdown",
   "metadata": {},
   "source": [
    "#### Image Read\n",
    "- flow_from_dataframe() : 디렉토리에서 이미지를 읽을 객체 생성\n",
    "- train_df : 데이터 프레임\n",
    "- X_col, y_col : 컬럼 지정\n",
    "- batch_size : 한번에 리턴 할 이미지의 개수\n",
    "- class_mode : 분류 방법 (binary : 이진 분류, categorical : 다중 분류)"
   ]
  },
  {
   "cell_type": "code",
   "execution_count": null,
   "metadata": {
    "colab": {},
    "colab_type": "code",
    "id": "9CMxpv84XyRg"
   },
   "outputs": [],
   "source": [
    "IM_HEIGHT = 224\n",
    "IM_WIDTH = 224\n",
    "\n",
    "train_generator = train_datagen.flow_from_dataframe(train_df, x_col=\"path\", y_col=\"label\", target_size=(IM_HEIGHT, IM_WIDTH),\n",
    "                                                   batch_size=16, class_mode='binary', shuffle=True)\n",
    "\n",
    "test_generator = test_datagen.flow_from_dataframe(test_df, x_col=\"path\", y_col=\"label\", target_size=(IM_HEIGHT, IM_WIDTH),\n",
    "                                                   batch_size=16, class_mode='binary', shuffle=True)\n",
    "\n",
    "val_generator = val_datagen.flow_from_dataframe(val_df, x_col=\"path\", y_col=\"label\", target_size=(IM_HEIGHT, IM_WIDTH),\n",
    "                                                   batch_size=16, class_mode='binary', shuffle=True)"
   ]
  },
  {
   "cell_type": "markdown",
   "metadata": {},
   "source": [
    "#### Create Model\n",
    "- NASNetMobile 구조를 갖는 Model 생성"
   ]
  },
  {
   "cell_type": "code",
   "execution_count": null,
   "metadata": {
    "colab": {},
    "colab_type": "code",
    "id": "IITVtESzXyRu"
   },
   "outputs": [],
   "source": [
    "NASNetMobile = NASNetMobile(input_shape=(IM_HEIGHT, IM_WIDTH, 3),\n",
    "                     include_top=False, weights='imagenet')\n",
    "\n",
    "NASNetMobile.summary()"
   ]
  },
  {
   "cell_type": "markdown",
   "metadata": {},
   "source": [
    "- Sequential() : 입력값을 읽어 예측을 할 Sequential 객체 생성\n",
    "- add(NASNetMobile) : NASNetMobile 대입\n",
    "- Flatten() : 선형 회귀를 하기 위해 합성곱 연산을 수행한 결과를 1차원 배열 변환\n",
    "- Dense : 선형 회귀를 수행할 객체\n",
    "- Activation = 'relu' : 선형 회귀 후 relu 활성 함수 사용\n",
    "- model.add(Dense(512, activation=\"relu\")) : Dense 모델을 예측 할 수 있도록 model에 추가\n",
    "- Dropout : Model Overfitting 방지\n",
    "- Dense(1) : 출력 데이터 칸의 수는 1\n",
    "- Activation = 'sigmoid' : 선형 회귀 후 sigmoid 함수를 활성 함수를 이용해 0, 1 값 리턴\n",
    "- loss : 손실 함수는 모델을 컴파일하기 위해 필요한 변수 중 하나\n",
    "- binary_crossentropy : 이항 교차 엔트로피(두 개의 클래스 중에서 예측할 때)\n",
    "- optimizer=Adam(lr=.0001) : learning_rate를 0.0001로 설정\n",
    "- model_path : 모델 저장 경로 지정\n",
    "- EarlyStopping : 모델 학습 사전 중지 (monitor에서 정해준 기준이 개선 안될 시 중지)\n",
    "- monitor : val_loss를 모니터링, 사전 중지 기준\n",
    "- patience : 횟수를 주면 개선이 안돼도 횟수만큼 더 학습"
   ]
  },
  {
   "cell_type": "code",
   "execution_count": null,
   "metadata": {
    "colab": {},
    "colab_type": "code",
    "id": "i5aUHjZZXySF",
    "scrolled": false
   },
   "outputs": [],
   "source": [
    "model = Sequential()\n",
    "model.add(NASNetMobile)\n",
    "model.add(Flatten())\n",
    "model.add(Dense(512, activation=\"relu\"))\n",
    "model.add(Dropout(0.5))\n",
    "model.add(Dense(1, activation=\"sigmoid\"))\n",
    "\n",
    "model.compile(loss='binary_crossentropy', optimizer=Adam(lr=.0001), metrics=['acc'])\n",
    "\n",
    "model_path =\"./model/NASNetMobile-{epoch:02d}-{val_loss:.4f}.h5\"\n",
    "checkpoint = ModelCheckpoint(filepath=model_path, monitor='val_loss', verbose=1, save_best_only=True)\n",
    "early_stopping = EarlyStopping(monitor='val_loss', patience=30)"
   ]
  },
  {
   "cell_type": "markdown",
   "metadata": {},
   "source": [
    "- summary : 생성된 모델 정보 출력"
   ]
  },
  {
   "cell_type": "code",
   "execution_count": null,
   "metadata": {
    "colab": {},
    "colab_type": "code",
    "id": "UIpNY2frXySf"
   },
   "outputs": [],
   "source": [
    "model.summary()"
   ]
  },
  {
   "cell_type": "markdown",
   "metadata": {},
   "source": [
    "#### Model learn\n",
    "- fit_generator : 제너레이터로 이미지를 담고 있는 배치로 학습\n",
    "- train_generator : 학습 데이터\n",
    "- epochs : 학습 할 횟수\n",
    "- validation_data : 학습 검증 데이터"
   ]
  },
  {
   "cell_type": "code",
   "execution_count": null,
   "metadata": {
    "colab": {},
    "colab_type": "code",
    "id": "7GWMS6gzXySr",
    "scrolled": true
   },
   "outputs": [],
   "source": [
    "history = model.fit_generator(train_generator, epochs=5000, validation_data = val_generator, callbacks=[checkpoint, early_stopping])"
   ]
  },
  {
   "cell_type": "markdown",
   "metadata": {},
   "source": [
    "#### Visualize the learning process"
   ]
  },
  {
   "cell_type": "code",
   "execution_count": null,
   "metadata": {
    "colab": {},
    "colab_type": "code",
    "id": "_T_-jK1DXyS4",
    "scrolled": false
   },
   "outputs": [],
   "source": [
    "plt.plot(history.history['loss'])\n",
    "plt.plot(history.history['val_loss'])\n",
    "plt.plot(history.history['acc'])\n",
    "plt.plot(history.history['val_acc'])\n",
    "plt.title('model loss')\n",
    "plt.ylabel('loss')\n",
    "plt.xlabel('epoch')\n",
    "plt.legend(['loss', 'val_loss', 'acc', 'val_acc'], loc='upper left')\n",
    "plt.show()"
   ]
  }
 ],
 "metadata": {
  "accelerator": "GPU",
  "colab": {
   "collapsed_sections": [],
   "machine_shape": "hm",
   "name": "MobileNetV2_SH.ipynb",
   "private_outputs": true,
   "provenance": []
  },
  "kernelspec": {
   "display_name": "Python 3",
   "language": "python",
   "name": "python3"
  },
  "language_info": {
   "codemirror_mode": {
    "name": "ipython",
    "version": 3
   },
   "file_extension": ".py",
   "mimetype": "text/x-python",
   "name": "python",
   "nbconvert_exporter": "python",
   "pygments_lexer": "ipython3",
   "version": "3.7.3"
  }
 },
 "nbformat": 4,
 "nbformat_minor": 1
}
