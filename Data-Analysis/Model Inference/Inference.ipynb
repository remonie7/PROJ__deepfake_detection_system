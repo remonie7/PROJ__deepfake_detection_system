{
 "cells": [
  {
   "cell_type": "markdown",
   "metadata": {},
   "source": [
    "#### Import"
   ]
  },
  {
   "cell_type": "code",
   "execution_count": null,
   "metadata": {
    "colab": {
     "base_uri": "https://localhost:8080/",
     "height": 35
    },
    "colab_type": "code",
    "executionInfo": {
     "elapsed": 16575,
     "status": "ok",
     "timestamp": 1587978450359,
     "user": {
      "displayName": "이찬호",
      "photoUrl": "",
      "userId": "11995991724165567981"
     },
     "user_tz": -540
    },
    "id": "G9XFuLmvOH2t",
    "outputId": "5bf29778-533f-4628-a3c6-e5f4b1656975"
   },
   "outputs": [],
   "source": [
    "import numpy as np\n",
    "import pandas as pd\n",
    "import tensorflow as tf\n",
    "import cv2 as cv\n",
    "import os\n",
    "from keras.models import load_model\n",
    "from facenet_pytorch import MTCNN\n",
    "\n",
    "os.environ[\"CUDA_VISIBLE_DEVICES\"]= \"1\"\n",
    "\n",
    "tf.debugging.set_log_device_placement(True)\n",
    "config = tf.ConfigProto()\n",
    "config.gpu_options.allow_growth = True"
   ]
  },
  {
   "cell_type": "markdown",
   "metadata": {},
   "source": [
    "#### Data Adopted & Data Read\n",
    "- Kaggle Deepfake Detection Challenge Dataset의 **<U>00.zip,01.zip,02.zip</U>**\n",
    "https://www.kaggle.com/c/deepfake-detection-challenge/data  \n",
    "- 각각 약 1500개 영상의 REAL, FAKE 정보가 담긴, json 파일로 구성\n",
    "- 각각 metadata를 Dataframe으로 읽어온 뒤, 하나의 Dataframe으로 구성\n",
    "- metadata를 sort하여 알파벳 순으로 정렬"
   ]
  },
  {
   "cell_type": "code",
   "execution_count": null,
   "metadata": {
    "colab": {},
    "colab_type": "code",
    "id": "GGEYS4rROH26"
   },
   "outputs": [],
   "source": [
    "metadata0 = pd.read_json('/content/drive/My Drive/metadata/metadata0.json').T\n",
    "metadata0 = pd.DataFrame(metadata0[\"label\"])\n",
    "metadata0.sort_index(inplace=True)\n",
    "\n",
    "metadata1= pd.read_json('/content/drive/My Drive/metadata/metadata1.json').T\n",
    "metadata1 = pd.DataFrame(metadata1[\"label\"])\n",
    "metadata1.sort_index(inplace=True)\n",
    "\n",
    "metadata2 = pd.read_json('/content/drive/My Drive/metadata/metadata2.json').T\n",
    "metadata2 = pd.DataFrame(metadata2[\"label\"])\n",
    "metadata2.sort_index(inplace=True)"
   ]
  },
  {
   "cell_type": "code",
   "execution_count": null,
   "metadata": {
    "colab": {},
    "colab_type": "code",
    "id": "YpK9ZfiKOH3A"
   },
   "outputs": [],
   "source": [
    "metadata = pd.concat([metadata0, metadata1, metadata2])"
   ]
  },
  {
   "cell_type": "code",
   "execution_count": null,
   "metadata": {
    "colab": {},
    "colab_type": "code",
    "id": "3HUUf6BPuoPn",
    "scrolled": true
   },
   "outputs": [],
   "source": [
    "metadata.sort_index(inplace=True)\n",
    "metadata = metadata.reset_index()\n",
    "metadata.columns=[\"filename\", \"label\"]\n",
    "metadata[\"label\"]=np.where(metadata[\"label\"]==\"FAKE\", 1, 0)"
   ]
  },
  {
   "cell_type": "markdown",
   "metadata": {},
   "source": [
    "#### Load Test Video"
   ]
  },
  {
   "cell_type": "code",
   "execution_count": null,
   "metadata": {
    "colab": {},
    "colab_type": "code",
    "id": "c2FTNXCQOH3F"
   },
   "outputs": [],
   "source": [
    "test = '/content/drive/My Drive/test_data/'\n",
    "test_movie_files = [test + x for x in sorted(os.listdir(test))]"
   ]
  },
  {
   "cell_type": "markdown",
   "metadata": {},
   "source": [
    "#### Load Model "
   ]
  },
  {
   "cell_type": "code",
   "execution_count": null,
   "metadata": {
    "colab": {
     "base_uri": "https://localhost:8080/",
     "height": 577
    },
    "colab_type": "code",
    "executionInfo": {
     "elapsed": 86580,
     "status": "ok",
     "timestamp": 1587978749155,
     "user": {
      "displayName": "이찬호",
      "photoUrl": "",
      "userId": "11995991724165567981"
     },
     "user_tz": -540
    },
    "id": "aNjE3wImuoPv",
    "outputId": "77a1ba76-5a21-463f-c36d-0bfaf50a4c96"
   },
   "outputs": [],
   "source": [
    "model = load_model(\"/content/drive/My Drive/IR-89-0.0000.h5\")\n",
    "model.summary()"
   ]
  },
  {
   "cell_type": "markdown",
   "metadata": {},
   "source": [
    "#### Predict Test Video\n",
    "- v_cap : 영상을 프레임별로 자름\n",
    "- v_len : 프레임의 총 개수를 변수에 저장\n",
    "- cv2.VideoCapture.grab() : 프레임을 가져온다. 실패 시 success 변수엔 False가 저장\n",
    "- cv2.VideoCapture.retrieve() : grab한 프레임을 decode한다. 프레임이 없을 경우 False가 success 변수에 저장\n",
    "- cv.COLOR_BGR2RGB : 프레임을 BGR에서 RGB로 변환\n",
    "- MTCNN : 얼굴을 검출하고, margin을 줘 얼굴이 살짝 잘리는 것을 방지\n",
    "- count : 영상에서 프레임별로 검출되는 모든 얼굴에 대해 번호를 매기기 위함"
   ]
  },
  {
   "cell_type": "code",
   "execution_count": null,
   "metadata": {
    "colab": {
     "base_uri": "https://localhost:8080/",
     "height": 1000
    },
    "colab_type": "code",
    "executionInfo": {
     "elapsed": 3199208,
     "status": "ok",
     "timestamp": 1588038997961,
     "user": {
      "displayName": "이찬호",
      "photoUrl": "",
      "userId": "11995991724165567981"
     },
     "user_tz": -540
    },
    "id": "58q3Q_3lOH3W",
    "outputId": "ad25e7e1-9f7f-44be-e532-4e64c1bd77bb",
    "scrolled": true
   },
   "outputs": [],
   "source": [
    "%%time\n",
    "detector = MTCNN(margin=50, keep_all=False, post_process=False, device='cuda:0',thresholds=[.9,.9,.9])\n",
    "vid_num = 0\n",
    "scores=[]\n",
    "filenames = []\n",
    "\n",
    "for vid in test_movie_files:\n",
    "    predict_all=[]\n",
    "    count=0\n",
    "    file_name_mp4 = vid.split('/')[-1]\n",
    "    file_name = file_name_mp4.split('.')[0]\n",
    "    v_cap = cv.VideoCapture(vid)    \n",
    "    v_len = int(v_cap.get(cv.CAP_PROP_FRAME_COUNT))\n",
    "    for frm in range(v_len):    \n",
    "        success = v_cap.grab()\n",
    "        if frm % 1 == 0:\n",
    "            success, frame = v_cap.retrieve()\n",
    "            if not success:\n",
    "                continue\n",
    "            frame = cv.cvtColor(frame, cv.COLOR_BGR2RGB)\n",
    "            frame = detector(frame)\n",
    "            if frame is not None:\n",
    "                frame = np.transpose(frame, (1, 2, 0))\n",
    "                frame = np.array(cv.resize(np.array(frame),(160 ,160)))\n",
    "                frame = (frame.flatten() / 255.0).reshape(-1, 160, 160, 3)\n",
    "                count = count+frame.shape[0]\n",
    "                predict = model.predict(frame)\n",
    "                predict_all.append(predict)\n",
    "            else:\n",
    "                continue\n",
    "        else:\n",
    "            continue\n",
    "    if (count>11):\n",
    "        predict_all.sort()\n",
    "        final_pred = sum(predict_all[5:-5])/(count-10)\n",
    "        if final_pred == 1: final_pred = [[0.99]]\n",
    "        elif final_pred == 0: final_pred = [[0.01]]\n",
    "        scores.append(final_pred[0][0])\n",
    "        print(\" score :\",final_pred[0][0]*100)\n",
    "    else:\n",
    "        scores.append(0.5)\n",
    "        print(\" score :\",50)   \n",
    "    filenames.append(file_name_mp4)\n",
    "    print('filename :',file_name_mp4)\n",
    "v_cap.release()"
   ]
  },
  {
   "cell_type": "markdown",
   "metadata": {},
   "source": [
    "#### Make Predict Dataframe\n",
    "- acc를 확인하기 위해 0.5 이상인 값을 1로, 미만인 값을 0으로 변환\n",
    "- metadata의 label과 df의 predict를 filename를 기준으로 merge"
   ]
  },
  {
   "cell_type": "code",
   "execution_count": null,
   "metadata": {
    "colab": {},
    "colab_type": "code",
    "id": "zRf0azrRuoP1"
   },
   "outputs": [],
   "source": [
    "df = pd.DataFrame({'filename':filenames, 'predict':scores}) \n",
    "df[\"predict\"]=np.where(df[\"predict\"]>=0.5, 1, 0)"
   ]
  },
  {
   "cell_type": "code",
   "execution_count": null,
   "metadata": {
    "colab": {
     "base_uri": "https://localhost:8080/",
     "height": 0
    },
    "colab_type": "code",
    "executionInfo": {
     "elapsed": 288,
     "status": "ok",
     "timestamp": 1588038997965,
     "user": {
      "displayName": "이찬호",
      "photoUrl": "",
      "userId": "11995991724165567981"
     },
     "user_tz": -540
    },
    "id": "nnOIeIKWuoP4",
    "outputId": "3b213833-7618-458f-e466-454ff60297a1",
    "scrolled": true
   },
   "outputs": [],
   "source": [
    "predict_df = pd.merge(metadata, df, on='filename')"
   ]
  },
  {
   "cell_type": "code",
   "execution_count": null,
   "metadata": {},
   "outputs": [],
   "source": [
    "compare = (predict_df.label == predict_df.predict)\n",
    "compare = np.sum(compare)\n",
    "acc = compare / len(predict.predict)\n",
    "acc"
   ]
  }
 ],
 "metadata": {
  "accelerator": "GPU",
  "colab": {
   "collapsed_sections": [],
   "machine_shape": "hm",
   "name": "DFD_Inference_first.ipynb",
   "provenance": []
  },
  "kernelspec": {
   "display_name": "Python 3",
   "language": "python",
   "name": "python3"
  },
  "language_info": {
   "codemirror_mode": {
    "name": "ipython",
    "version": 3
   },
   "file_extension": ".py",
   "mimetype": "text/x-python",
   "name": "python",
   "nbconvert_exporter": "python",
   "pygments_lexer": "ipython3",
   "version": "3.7.3"
  }
 },
 "nbformat": 4,
 "nbformat_minor": 1
}
